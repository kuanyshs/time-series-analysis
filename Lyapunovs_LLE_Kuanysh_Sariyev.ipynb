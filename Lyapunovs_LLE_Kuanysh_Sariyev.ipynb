{
 "cells": [
  {
   "cell_type": "code",
   "execution_count": 1,
   "id": "8a4ae57c",
   "metadata": {},
   "outputs": [],
   "source": [
    "import numpy as np\n",
    "import pandas as pd\n",
    "import math\n",
    "from numba import jit, njit, prange\n",
    "from tqdm import tqdm\n",
    "import matplotlib.pyplot as plt\n",
    "from tslearn.preprocessing import TimeSeriesScalerMinMax"
   ]
  },
  {
   "cell_type": "code",
   "execution_count": 2,
   "id": "ebbe67d4",
   "metadata": {},
   "outputs": [],
   "source": [
    "data = np.loadtxt('lorenz.txt', dtype=np.float32)"
   ]
  },
  {
   "cell_type": "code",
   "execution_count": 23,
   "id": "e24b09e2",
   "metadata": {},
   "outputs": [],
   "source": [
    "x1 = 90000\n",
    "x2 = 93000\n",
    "\n",
    "train_data = data[:x1]\n",
    "test_data = data[x1:x2]"
   ]
  },
  {
   "cell_type": "markdown",
   "id": "76101847",
   "metadata": {},
   "source": [
    "### Largest Lyapunov Exponent, Rosenstein's method:"
   ]
  },
  {
   "cell_type": "code",
   "execution_count": 37,
   "id": "4b17759e",
   "metadata": {},
   "outputs": [],
   "source": [
    "def LLE(ts, z_vector_dim=4, k=1, ts_length=10000, tau=0.1, eps = 1e-5):\n",
    "    \n",
    "    z_range = ts_length - z_vector_dim + 1\n",
    "    z_vectors = np.zeros((z_range, z_vector_dim), dtype=np.float32)\n",
    "    z_vectors_k = np.zeros((z_range, z_vector_dim), dtype=np.float32)\n",
    "\n",
    "    for i in range(z_range):\n",
    "        z_vectors[i] = np.array([ts[i], ts[i+1], ts[i+2], ts[i+3]])\n",
    "        z_vectors_k[i] = np.array([ts[i+k], ts[i+k+1], ts[i+k+2], ts[i+k+3]])\n",
    "    \n",
    "    @jit(nopython=True, fastmath=True)\n",
    "    def euc_dist(u, v):\n",
    "        n = len(u)\n",
    "        dist = 0\n",
    "        for i in prange(n):\n",
    "            dist += abs(u[i] - v[i]) ** 2 \n",
    "        return dist ** (1 / 2)\n",
    "    \n",
    "    @njit(parallel=True)\n",
    "    def vec_dist(z_vectors):\n",
    "        m, n = z_vectors.shape\n",
    "        dist = np.ones((m, m), dtype=np.float32)*2\n",
    "        for i in prange(m):\n",
    "            for j in prange(m):\n",
    "                if i!=j:\n",
    "                    dist[i,j] = euc_dist(z_vectors[i], z_vectors[j])\n",
    "        return dist\n",
    "\n",
    "    dists = vec_dist(z_vectors)\n",
    "    dists_k = vec_dist(z_vectors_k)\n",
    "\n",
    "    lyaps = np.zeros((z_range,), dtype=np.float32)\n",
    "    for i in range(z_range):\n",
    "        min_dist = np.min(dists[i])\n",
    "        dist_idx =  np.where(dists[i] == min_dist)[0]\n",
    "        lyaps[i] = np.log(dists_k[i][dist_idx]/(dists[i][dist_idx]+eps))[0]/(tau*k)\n",
    "\n",
    "    lyap1 = np.mean(lyaps)\n",
    "    return lyap1"
   ]
  },
  {
   "cell_type": "markdown",
   "id": "9d9def29",
   "metadata": {},
   "source": [
    "### Largest Lyapunov Exponent for Lorenz time series:"
   ]
  },
  {
   "cell_type": "code",
   "execution_count": 16,
   "id": "73f99bba",
   "metadata": {},
   "outputs": [
    {
     "name": "stdout",
     "output_type": "stream",
     "text": [
      "Wall time: 4.75 s\n"
     ]
    },
    {
     "data": {
      "text/plain": [
       "1.255526"
      ]
     },
     "execution_count": 16,
     "metadata": {},
     "output_type": "execute_result"
    }
   ],
   "source": [
    "%%time\n",
    "LLE(train_data, z_vector_dim=4, k=1, ts_length=40000, tau=0.1, eps = 1e-5)"
   ]
  },
  {
   "cell_type": "code",
   "execution_count": 21,
   "id": "d6c82220",
   "metadata": {},
   "outputs": [
    {
     "data": {
      "text/plain": [
       "1.2063995303964252"
      ]
     },
     "execution_count": 21,
     "metadata": {},
     "output_type": "execute_result"
    }
   ],
   "source": [
    "import nolds\n",
    "\n",
    "nolds.lyap_r(train_data, emb_dim=4, lag=1, min_tsep=1, tau=0.1, min_neighbors=20,\n",
    "           trajectory_len=20, fit=\"RANSAC\", debug_plot=False, debug_data=False,\n",
    "           plot_file=None, fit_offset=0)"
   ]
  },
  {
   "cell_type": "code",
   "execution_count": 24,
   "id": "40a75c80",
   "metadata": {},
   "outputs": [
    {
     "name": "stderr",
     "output_type": "stream",
     "text": [
      "100%|████████████████████████████████████████████████████████████████████████████████| 499/499 [07:21<00:00,  1.13it/s]\n"
     ]
    }
   ],
   "source": [
    "lles = []\n",
    "for i in tqdm(np.arange(1,500)):\n",
    "    lles.append(LLE(train_data, z_vector_dim=4, k=i, ts_length=10000, tau=0.1, eps = 1e-5))"
   ]
  },
  {
   "cell_type": "code",
   "execution_count": 25,
   "id": "c4862c3e",
   "metadata": {},
   "outputs": [
    {
     "data": {
      "image/png": "[encoded data removed]",
      "text/plain": [
       "<Figure size 432x288 with 1 Axes>"
      ]
     },
     "metadata": {
      "needs_background": "light"
     },
     "output_type": "display_data"
    }
   ],
   "source": [
    "point = 499\n",
    "x = np.arange(0, point)\n",
    "y = lles[:point]\n",
    "plt.plot(x, y, lw=0.5);"
   ]
  },
  {
   "cell_type": "markdown",
   "id": "d1b37676",
   "metadata": {},
   "source": [
    "### Largest Lyapunov Exponent for financial time series:"
   ]
  },
  {
   "cell_type": "code",
   "execution_count": 26,
   "id": "d69e62c8",
   "metadata": {},
   "outputs": [],
   "source": [
    "# обучающая выборка для каждого дневного наблюдения из списка класса\n",
    "data = pd.read_csv('IBM_15min_2y.csv') # откроем датасет\n",
    "ts_df = data.sort_values(by=['time'], ascending=True)['close'].to_numpy() # возьмем adjusted цены закрытия \n",
    "\n",
    "ts_minmax = TimeSeriesScalerMinMax().fit_transform([ts_df]).ravel() # 0-1 масштабирование\n",
    "ts_diff = np.diff(ts_minmax) # сделаем ряд стационарным через np.diff, очень важно ее сделать\n",
    "\n",
    "x1 = 20000\n",
    "x2 = 21000\n",
    "train_data = ts_diff[:x1]\n",
    "test_data = ts_diff[x1:x2]\n",
    "\n",
    "min_ts = np.min(train_data) # для сдвига всей выборки вверх, отриц значения здесь недопустимы\n",
    "train_data = train_data - np.full((train_data.shape[0], ), min_ts)"
   ]
  },
  {
   "cell_type": "code",
   "execution_count": 27,
   "id": "62ee188a",
   "metadata": {},
   "outputs": [
    {
     "data": {
      "text/plain": [
       "(20000,)"
      ]
     },
     "execution_count": 27,
     "metadata": {},
     "output_type": "execute_result"
    }
   ],
   "source": [
    "train_data.shape"
   ]
  },
  {
   "cell_type": "code",
   "execution_count": 28,
   "id": "e5bd2378",
   "metadata": {},
   "outputs": [
    {
     "data": {
      "text/plain": [
       "[<matplotlib.lines.Line2D at 0x21009c33fa0>]"
      ]
     },
     "execution_count": 28,
     "metadata": {},
     "output_type": "execute_result"
    },
    {
     "data": {
      "image/png": "[encoded data removed]",
      "text/plain": [
       "<Figure size 432x288 with 1 Axes>"
      ]
     },
     "metadata": {
      "needs_background": "light"
     },
     "output_type": "display_data"
    }
   ],
   "source": [
    "plt.plot(train_data)"
   ]
  },
  {
   "cell_type": "code",
   "execution_count": 44,
   "id": "e8deb850",
   "metadata": {},
   "outputs": [
    {
     "name": "stdout",
     "output_type": "stream",
     "text": [
      "Wall time: 769 ms\n"
     ]
    },
    {
     "data": {
      "text/plain": [
       "0.8898132"
      ]
     },
     "execution_count": 44,
     "metadata": {},
     "output_type": "execute_result"
    }
   ],
   "source": [
    "%%time\n",
    "LLE(train_data, z_vector_dim=4, k=1, ts_length=1000, tau=1, eps = 1e-5)"
   ]
  },
  {
   "cell_type": "code",
   "execution_count": 50,
   "id": "d9a60d97",
   "metadata": {},
   "outputs": [
    {
     "name": "stderr",
     "output_type": "stream",
     "text": [
      "100%|████████████████████████████████████████████████████████████████████████████████| 499/499 [07:42<00:00,  1.08it/s]\n"
     ]
    }
   ],
   "source": [
    "np.seterr(divide='ignore', invalid='ignore')\n",
    "lles_fin = []\n",
    "for i in tqdm(np.arange(1,500)):\n",
    "    lles_fin.append(LLE(train_data, z_vector_dim=4, k=i, ts_length=10000, tau=1, eps = 1e-5))"
   ]
  },
  {
   "cell_type": "code",
   "execution_count": 63,
   "id": "67d97885",
   "metadata": {
    "scrolled": true
   },
   "outputs": [
    {
     "data": {
      "image/png": "[encoded data removed]",
      "text/plain": [
       "<Figure size 432x288 with 1 Axes>"
      ]
     },
     "metadata": {
      "needs_background": "light"
     },
     "output_type": "display_data"
    }
   ],
   "source": [
    "lles_fin = np.array(lles_fin)\n",
    "lles_fin[np.isinf(lles_fin)]=0.01\n",
    "lles_fin[:100][lles_fin[:100]==0.01]=0.033\n",
    "point = 499\n",
    "x = np.arange(0, point)\n",
    "y = lles_fin[:point]\n",
    "plt.plot(x, y, lw=0.5);"
   ]
  },
  {
   "cell_type": "code",
   "execution_count": null,
   "id": "98f0a027",
   "metadata": {},
   "outputs": [],
   "source": []
  }
 ],
 "metadata": {
  "kernelspec": {
   "display_name": "Python 3",
   "language": "python",
   "name": "python3"
  },
  "language_info": {
   "codemirror_mode": {
    "name": "ipython",
    "version": 3
   },
   "file_extension": ".py",
   "mimetype": "text/x-python",
   "name": "python",
   "nbconvert_exporter": "python",
   "pygments_lexer": "ipython3",
   "version": "3.8.8"
  }
 },
 "nbformat": 4,
 "nbformat_minor": 5
}
